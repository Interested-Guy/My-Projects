{
  "nbformat": 4,
  "nbformat_minor": 0,
  "metadata": {
    "colab": {
      "name": "LCS.ipynb",
      "provenance": []
    },
    "kernelspec": {
      "name": "python3",
      "display_name": "Python 3"
    },
    "language_info": {
      "name": "python"
    }
  },
  "cells": [
    {
      "cell_type": "code",
      "metadata": {
        "id": "5stdblMyGaee"
      },
      "source": [
        "#Program to find longest common subsequence in two words. \n",
        "#For example: In 'ballee' and 'waltlee', the longest common subsequence is 'allee'."
      ],
      "execution_count": null,
      "outputs": []
    },
    {
      "cell_type": "code",
      "metadata": {
        "colab": {
          "base_uri": "https://localhost:8080/"
        },
        "id": "Np2gd7BwEGiP",
        "outputId": "8e30edae-4ebb-4d7e-874d-313b35e0a34d"
      },
      "source": [
        "def LCW(u,v):\n",
        "\tm=len(u)\n",
        "\tn=len(v)\n",
        "\tgrid=[[0 for i in range(n+2)] for j in range(m+2)]\n",
        "\tfor r in range(m+1):\n",
        "\t\tgrid[r][n+1]=0\n",
        "\tfor c in range(n+1):\n",
        "\t\tgrid[m+1][c]=0\n",
        "\tmaxLCW=0\n",
        "\tfor c in range(n-1,-1,-1):\n",
        "\t\tfor r in range(m-1, -1, -1):\n",
        "\t\t\tif(u[r]==v[c]):\n",
        "\t\t\t\tgrid[r][c]=grid[r+1][c+1]+1\n",
        "\t\t\telse:\n",
        "\t\t\t\tgrid[r][c]=max(grid[r+1][c],grid[r][c+1])\n",
        "\treturn grid[0][0]\n",
        "print(LCW(\"secret\",\"bisect\"))"
      ],
      "execution_count": 1,
      "outputs": [
        {
          "output_type": "stream",
          "name": "stdout",
          "text": [
            "4\n"
          ]
        }
      ]
    }
  ]
}