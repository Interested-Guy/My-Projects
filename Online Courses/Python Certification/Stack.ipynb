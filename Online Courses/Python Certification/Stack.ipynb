{
  "nbformat": 4,
  "nbformat_minor": 0,
  "metadata": {
    "colab": {
      "name": "Stack.ipynb",
      "provenance": [],
      "collapsed_sections": []
    },
    "kernelspec": {
      "name": "python3",
      "display_name": "Python 3"
    },
    "language_info": {
      "name": "python"
    }
  },
  "cells": [
    {
      "cell_type": "code",
      "metadata": {
        "id": "5stdblMyGaee"
      },
      "source": [
        "#This is a user defined STACK. "
      ],
      "execution_count": null,
      "outputs": []
    },
    {
      "cell_type": "code",
      "metadata": {
        "id": "Np2gd7BwEGiP"
      },
      "source": [
        "class Stack:\n",
        "    def __init__(self):\n",
        "        self.next=None\n",
        "        self.value=None\n",
        "    def isempty(self):\n",
        "        return (self.value==None)\n",
        "    def push(self,v):\n",
        "        if(self.isempty()):\n",
        "            self.value=v\n",
        "            return\n",
        "        temp=self\n",
        "        while(temp.next!=None):\n",
        "            temp=temp.next\n",
        "        temp.next=Stack()\n",
        "        temp.next.value=v\n",
        "        return\n",
        "    def peek(self):\n",
        "        if (self.isempty()):\n",
        "            return\n",
        "        temp = self\n",
        "        while (temp.next != None):\n",
        "            temp = temp.next\n",
        "        return temp.value\n",
        "    def pop(self):\n",
        "        if (self.isempty()):\n",
        "            return\n",
        "        if(self.next==None):\n",
        "            self.value=None\n",
        "            return\n",
        "        temp = self\n",
        "        while (temp.next.next != None):\n",
        "            temp = temp.next\n",
        "        temp.next.value=None\n",
        "        temp.next=None\n",
        "        return\n",
        "    def __str__(self):\n",
        "        selflist=[]\n",
        "        if(self.value==None):\n",
        "            return str(selflist)\n",
        "        temp=self\n",
        "        selflist.append(temp.value)\n",
        "        while(temp.next!=None):\n",
        "            temp=temp.next\n",
        "            selflist.append(temp.value)\n",
        "        return str(selflist)\n"
      ],
      "execution_count": 9,
      "outputs": []
    },
    {
      "cell_type": "code",
      "metadata": {
        "colab": {
          "base_uri": "https://localhost:8080/"
        },
        "id": "FlVOElfSJeUu",
        "outputId": "cc3be0ec-abc3-4650-8dae-f09afd5971a5"
      },
      "source": [
        "some_object=Stack()#Pushing elements into stack \n",
        "for i in range(5):\n",
        " some_object.push(i)\n",
        "print(some_object)"
      ],
      "execution_count": 10,
      "outputs": [
        {
          "output_type": "stream",
          "name": "stdout",
          "text": [
            "[0, 1, 2, 3, 4]\n"
          ]
        }
      ]
    },
    {
      "cell_type": "code",
      "metadata": {
        "colab": {
          "base_uri": "https://localhost:8080/"
        },
        "id": "gzLKQQPMJwnF",
        "outputId": "516606ea-7de1-471a-943b-114909b11e72"
      },
      "source": [
        "print(some_object.peek())#Checking the top element of the stack"
      ],
      "execution_count": 11,
      "outputs": [
        {
          "output_type": "stream",
          "name": "stdout",
          "text": [
            "4\n"
          ]
        }
      ]
    },
    {
      "cell_type": "code",
      "metadata": {
        "id": "CZ7dI1n-KPD_",
        "colab": {
          "base_uri": "https://localhost:8080/"
        },
        "outputId": "7fff2a09-1701-48ae-dfcc-86e0980f83a5"
      },
      "source": [
        "some_object.pop()#Popping the top element\n",
        "print(some_object)"
      ],
      "execution_count": 12,
      "outputs": [
        {
          "output_type": "stream",
          "name": "stdout",
          "text": [
            "[0, 1, 2, 3]\n"
          ]
        }
      ]
    }
  ]
}