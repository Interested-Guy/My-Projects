{
  "nbformat": 4,
  "nbformat_minor": 0,
  "metadata": {
    "colab": {
      "name": "Program10.ipynb",
      "provenance": []
    },
    "kernelspec": {
      "name": "python3",
      "display_name": "Python 3"
    },
    "language_info": {
      "name": "python"
    }
  },
  "cells": [
    {
      "cell_type": "markdown",
      "source": [
        "##Maximum Likelihood Estimation:\n",
        "###MLE is a method a obtaining the values of the parameters which maximize the joint probability mass function(or pdf) for the observed valus. That is if we have a sample of a normal distribution, MLE gives the values of 'MU(mean)' and 'SIGMA^2(variance)' which maximizes the PMF of a normal distribution, i.e. the values for which the sample has most likely occured.\n",
        "\n",
        "###MLE is a useful method to find population parameters. It only requires us to make an assumption of which distribution the sample data has come from.\n",
        "\n",
        "###Let us understand how MLE is performed with an example"
      ],
      "metadata": {
        "id": "mSifS3n07lZY"
      }
    },
    {
      "cell_type": "code",
      "execution_count": 1,
      "metadata": {
        "colab": {
          "base_uri": "https://localhost:8080/",
          "height": 206
        },
        "id": "Uk75S-SG5p4G",
        "outputId": "23f07202-19b1-4a2f-d428-c36495149077"
      },
      "outputs": [
        {
          "output_type": "execute_result",
          "data": {
            "text/html": [
              "\n",
              "  <div id=\"df-612f5cd2-2c2a-4177-9e6a-1cf5d2fd1b47\">\n",
              "    <div class=\"colab-df-container\">\n",
              "      <div>\n",
              "<style scoped>\n",
              "    .dataframe tbody tr th:only-of-type {\n",
              "        vertical-align: middle;\n",
              "    }\n",
              "\n",
              "    .dataframe tbody tr th {\n",
              "        vertical-align: top;\n",
              "    }\n",
              "\n",
              "    .dataframe thead th {\n",
              "        text-align: right;\n",
              "    }\n",
              "</style>\n",
              "<table border=\"1\" class=\"dataframe\">\n",
              "  <thead>\n",
              "    <tr style=\"text-align: right;\">\n",
              "      <th></th>\n",
              "      <th>id</th>\n",
              "      <th>Y</th>\n",
              "      <th>X</th>\n",
              "    </tr>\n",
              "  </thead>\n",
              "  <tbody>\n",
              "    <tr>\n",
              "      <th>0</th>\n",
              "      <td>1</td>\n",
              "      <td>2</td>\n",
              "      <td>1</td>\n",
              "    </tr>\n",
              "    <tr>\n",
              "      <th>1</th>\n",
              "      <td>2</td>\n",
              "      <td>6</td>\n",
              "      <td>4</td>\n",
              "    </tr>\n",
              "    <tr>\n",
              "      <th>2</th>\n",
              "      <td>3</td>\n",
              "      <td>7</td>\n",
              "      <td>5</td>\n",
              "    </tr>\n",
              "    <tr>\n",
              "      <th>3</th>\n",
              "      <td>4</td>\n",
              "      <td>9</td>\n",
              "      <td>6</td>\n",
              "    </tr>\n",
              "    <tr>\n",
              "      <th>4</th>\n",
              "      <td>5</td>\n",
              "      <td>15</td>\n",
              "      <td>9</td>\n",
              "    </tr>\n",
              "  </tbody>\n",
              "</table>\n",
              "</div>\n",
              "      <button class=\"colab-df-convert\" onclick=\"convertToInteractive('df-612f5cd2-2c2a-4177-9e6a-1cf5d2fd1b47')\"\n",
              "              title=\"Convert this dataframe to an interactive table.\"\n",
              "              style=\"display:none;\">\n",
              "        \n",
              "  <svg xmlns=\"http://www.w3.org/2000/svg\" height=\"24px\"viewBox=\"0 0 24 24\"\n",
              "       width=\"24px\">\n",
              "    <path d=\"M0 0h24v24H0V0z\" fill=\"none\"/>\n",
              "    <path d=\"M18.56 5.44l.94 2.06.94-2.06 2.06-.94-2.06-.94-.94-2.06-.94 2.06-2.06.94zm-11 1L8.5 8.5l.94-2.06 2.06-.94-2.06-.94L8.5 2.5l-.94 2.06-2.06.94zm10 10l.94 2.06.94-2.06 2.06-.94-2.06-.94-.94-2.06-.94 2.06-2.06.94z\"/><path d=\"M17.41 7.96l-1.37-1.37c-.4-.4-.92-.59-1.43-.59-.52 0-1.04.2-1.43.59L10.3 9.45l-7.72 7.72c-.78.78-.78 2.05 0 2.83L4 21.41c.39.39.9.59 1.41.59.51 0 1.02-.2 1.41-.59l7.78-7.78 2.81-2.81c.8-.78.8-2.07 0-2.86zM5.41 20L4 18.59l7.72-7.72 1.47 1.35L5.41 20z\"/>\n",
              "  </svg>\n",
              "      </button>\n",
              "      \n",
              "  <style>\n",
              "    .colab-df-container {\n",
              "      display:flex;\n",
              "      flex-wrap:wrap;\n",
              "      gap: 12px;\n",
              "    }\n",
              "\n",
              "    .colab-df-convert {\n",
              "      background-color: #E8F0FE;\n",
              "      border: none;\n",
              "      border-radius: 50%;\n",
              "      cursor: pointer;\n",
              "      display: none;\n",
              "      fill: #1967D2;\n",
              "      height: 32px;\n",
              "      padding: 0 0 0 0;\n",
              "      width: 32px;\n",
              "    }\n",
              "\n",
              "    .colab-df-convert:hover {\n",
              "      background-color: #E2EBFA;\n",
              "      box-shadow: 0px 1px 2px rgba(60, 64, 67, 0.3), 0px 1px 3px 1px rgba(60, 64, 67, 0.15);\n",
              "      fill: #174EA6;\n",
              "    }\n",
              "\n",
              "    [theme=dark] .colab-df-convert {\n",
              "      background-color: #3B4455;\n",
              "      fill: #D2E3FC;\n",
              "    }\n",
              "\n",
              "    [theme=dark] .colab-df-convert:hover {\n",
              "      background-color: #434B5C;\n",
              "      box-shadow: 0px 1px 3px 1px rgba(0, 0, 0, 0.15);\n",
              "      filter: drop-shadow(0px 1px 2px rgba(0, 0, 0, 0.3));\n",
              "      fill: #FFFFFF;\n",
              "    }\n",
              "  </style>\n",
              "\n",
              "      <script>\n",
              "        const buttonEl =\n",
              "          document.querySelector('#df-612f5cd2-2c2a-4177-9e6a-1cf5d2fd1b47 button.colab-df-convert');\n",
              "        buttonEl.style.display =\n",
              "          google.colab.kernel.accessAllowed ? 'block' : 'none';\n",
              "\n",
              "        async function convertToInteractive(key) {\n",
              "          const element = document.querySelector('#df-612f5cd2-2c2a-4177-9e6a-1cf5d2fd1b47');\n",
              "          const dataTable =\n",
              "            await google.colab.kernel.invokeFunction('convertToInteractive',\n",
              "                                                     [key], {});\n",
              "          if (!dataTable) return;\n",
              "\n",
              "          const docLinkHtml = 'Like what you see? Visit the ' +\n",
              "            '<a target=\"_blank\" href=https://colab.research.google.com/notebooks/data_table.ipynb>data table notebook</a>'\n",
              "            + ' to learn more about interactive tables.';\n",
              "          element.innerHTML = '';\n",
              "          dataTable['output_type'] = 'display_data';\n",
              "          await google.colab.output.renderOutput(dataTable, element);\n",
              "          const docLink = document.createElement('div');\n",
              "          docLink.innerHTML = docLinkHtml;\n",
              "          element.appendChild(docLink);\n",
              "        }\n",
              "      </script>\n",
              "    </div>\n",
              "  </div>\n",
              "  "
            ],
            "text/plain": [
              "   id   Y  X\n",
              "0   1   2  1\n",
              "1   2   6  4\n",
              "2   3   7  5\n",
              "3   4   9  6\n",
              "4   5  15  9"
            ]
          },
          "metadata": {},
          "execution_count": 1
        }
      ],
      "source": [
        "import pandas as pd\n",
        "df=pd.read_csv(\"MLE.csv\")\n",
        "df"
      ]
    },
    {
      "cell_type": "code",
      "source": [
        "#usual method of finding model using least squares\n",
        "import statsmodels.api as s\n",
        "import numpy as np\n",
        "\n",
        "x=df['X']\n",
        "y=df['Y']\n",
        "x=s.add_constant(x)\n",
        "model=s.OLS(y,x).fit()\n",
        "print(model.summary())\n"
      ],
      "metadata": {
        "colab": {
          "base_uri": "https://localhost:8080/"
        },
        "id": "4hxqgG3Z7Fss",
        "outputId": "bb362d7c-87d6-4f37-be97-70c49decfab7"
      },
      "execution_count": 8,
      "outputs": [
        {
          "output_type": "stream",
          "name": "stdout",
          "text": [
            "                            OLS Regression Results                            \n",
            "==============================================================================\n",
            "Dep. Variable:                      Y   R-squared:                       0.980\n",
            "Model:                            OLS   Adj. R-squared:                  0.973\n",
            "Method:                 Least Squares   F-statistic:                     145.9\n",
            "Date:                Wed, 19 Jan 2022   Prob (F-statistic):            0.00122\n",
            "Time:                        10:54:09   Log-Likelihood:                -4.5811\n",
            "No. Observations:                   5   AIC:                             13.16\n",
            "Df Residuals:                       3   BIC:                             12.38\n",
            "Df Model:                           1                                         \n",
            "Covariance Type:            nonrobust                                         \n",
            "==============================================================================\n",
            "                 coef    std err          t      P>|t|      [0.025      0.975]\n",
            "------------------------------------------------------------------------------\n",
            "const         -0.2882      0.755     -0.382      0.728      -2.692       2.115\n",
            "X              1.6176      0.134     12.079      0.001       1.191       2.044\n",
            "==============================================================================\n",
            "Omnibus:                          nan   Durbin-Watson:                   1.405\n",
            "Prob(Omnibus):                    nan   Jarque-Bera (JB):                0.551\n",
            "Skew:                           0.089   Prob(JB):                        0.759\n",
            "Kurtosis:                       1.384   Cond. No.                         12.5\n",
            "==============================================================================\n",
            "\n",
            "Warnings:\n",
            "[1] Standard Errors assume that the covariance matrix of the errors is correctly specified.\n",
            "\n",
            "\n",
            "***Standard Deviation of error term is: 0.6048820983804833 ***\n",
            "\n",
            "\n"
          ]
        },
        {
          "output_type": "stream",
          "name": "stderr",
          "text": [
            "/usr/local/lib/python3.7/dist-packages/statsmodels/stats/stattools.py:71: ValueWarning: omni_normtest is not valid with less than 8 observations; 5 samples were given.\n",
            "  \"samples were given.\" % int(n), ValueWarning)\n"
          ]
        }
      ]
    },
    {
      "cell_type": "code",
      "source": [
        "print(\"Standard Deviation of error term is:\",np.std(model.resid))"
      ],
      "metadata": {
        "colab": {
          "base_uri": "https://localhost:8080/"
        },
        "id": "z7Z0GGlq-pXw",
        "outputId": "bae1af3f-5712-49d8-e01b-9d53d8e7ba66"
      },
      "execution_count": 9,
      "outputs": [
        {
          "output_type": "stream",
          "name": "stdout",
          "text": [
            "Standard Deviation of error term is: 0.6048820983804833\n"
          ]
        }
      ]
    },
    {
      "cell_type": "markdown",
      "source": [
        "###In the given example, we found a model by the least squares method.\n",
        "###Now to find the same model using MLE, we need to know the PMF/PDF of the distribution of e(error term). Least squares requires us to have a normal distribution of e, but MLE works for models with any distribution. Let us assume that e has a normal distribution."
      ],
      "metadata": {
        "id": "2S2pjtmU-5YW"
      }
    },
    {
      "cell_type": "code",
      "source": [
        "from scipy.optimize import minimize\n",
        "\n",
        "x=df['X']\n",
        "y=df['Y']\n",
        "#Define the maximum likelihood function(denoted by L).\n",
        "#It is the product of the PMF values corresponding to the sample data.\n",
        "def f(parameters):\n",
        "  m=parameters[0]\n",
        "  b=parameters[1]\n",
        "  sig=parameters[2]\n",
        "  y_exp=m*x+b\n",
        "  L=((len(x)*np.log(2*np.pi*sig**2))/2)+((sum((y-y_exp)**2))/(2*(sig**2)))\n",
        "  return L\n",
        "model1=minimize(f,np.array([2,2,2]),method=\"L-BFGS-B\")\n",
        "model1"
      ],
      "metadata": {
        "colab": {
          "base_uri": "https://localhost:8080/"
        },
        "id": "Bq52GYPN_0nd",
        "outputId": "9ccb220c-1d64-43b1-b000-f65475326ad0"
      },
      "execution_count": 17,
      "outputs": [
        {
          "output_type": "execute_result",
          "data": {
            "text/plain": [
              "      fun: 4.581084072761883\n",
              " hess_inv: <3x3 LbfgsInvHessProduct with dtype=float64>\n",
              "      jac: array([-1.08357767e-05, -2.39808173e-06, -7.72715225e-06])\n",
              "  message: b'CONVERGENCE: REL_REDUCTION_OF_F_<=_FACTR*EPSMCH'\n",
              "     nfev: 112\n",
              "      nit: 18\n",
              "   status: 0\n",
              "  success: True\n",
              "        x: array([ 1.61764705, -0.28823541,  0.60488181])"
            ]
          },
          "metadata": {},
          "execution_count": 17
        }
      ]
    },
    {
      "cell_type": "markdown",
      "source": [
        "###The procedure involves maximizing the likelihood function. The parameter values which maximize the function are the maximum likelihood estimates.\n",
        "\n",
        "###In the code above, we used an iterative method called the \"B_FBGS_B\" method which makes it easier for the computer to calculate. The calculations for minimzing most ML Functions are extremely complicated to do for humans, thus we use iterative process.\n",
        "\n",
        "###Model1 array stores the parameter values for the maximized L function. \n",
        "\n",
        "###Now lets look back at the least squares method. From the result, we can see that the parameter values corresponding to the model,\n",
        "###y=B0+B1x+e is\n",
        "###B0=-0.2882\n",
        "###B1=1.6176\n",
        "###std. dev. of e=.6048\n",
        "###Notice that these are exactly the values that we have obtained from the MLE method.\n",
        "###This proves the validity of the MLE method"
      ],
      "metadata": {
        "id": "vt9TDSaFKrmC"
      }
    }
  ]
}