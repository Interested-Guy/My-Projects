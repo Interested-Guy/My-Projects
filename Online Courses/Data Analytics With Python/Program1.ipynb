{
  "nbformat": 4,
  "nbformat_minor": 0,
  "metadata": {
    "colab": {
      "name": "Program1.ipynb",
      "provenance": [],
      "collapsed_sections": []
    },
    "kernelspec": {
      "name": "python3",
      "display_name": "Python 3"
    },
    "language_info": {
      "name": "python"
    }
  },
  "cells": [
    {
      "cell_type": "code",
      "metadata": {
        "colab": {
          "base_uri": "https://localhost:8080/"
        },
        "id": "H-juaobp4qus",
        "cellView": "code",
        "outputId": "fb8c9044-b220-45b1-f52c-83a69243eeee"
      },
      "source": [
        "import statistics as st                                                   #Summary Statistics for given ungrouped data\n",
        "import numpy as np\n",
        "l=[12,11,8,7,6,13,7,7,9,11,18]\n",
        "l=sorted(l)\n",
        "print(\"Summary statistics for population\")\n",
        "print(\"Mean:\",st.mean(l))\n",
        "print(\"Median:\",st.median(l))\n",
        "print(\"Mode:\",st.mode(l))\n",
        "print(\"Variance:\",st.pvariance(l))\n",
        "print(\"Standard Deviation:\",st.pstdev(l))\n",
        "print(\"Skew\",3*(st.mean(l)-st.median(l))/st.pstdev(l))\n",
        "print(\"30th Percentile:\",np.quantile(l,0.3))"
      ],
      "execution_count": null,
      "outputs": [
        {
          "output_type": "stream",
          "name": "stdout",
          "text": [
            "Summary statistics for population\n",
            "Mean: 9.909090909090908\n",
            "Median: 9\n",
            "Mode: 7\n",
            "Variance: 11.537190082644628\n",
            "Standard Deviation: 3.3966439440489826\n",
            "Skew 0.8029315913582832\n",
            "30th Percentile: 7.0\n"
          ]
        }
      ]
    },
    {
      "cell_type": "code",
      "metadata": {
        "colab": {
          "base_uri": "https://localhost:8080/",
          "height": 321
        },
        "id": "d0RRDchaApIQ",
        "outputId": "c5c178b1-8bf3-4170-b3f5-170cd0c905e8"
      },
      "source": [
        "import matplotlib.pyplot as plt                                     #Boxplot for given data\n",
        "import seaborn as sb\n",
        "sb.boxplot(l)\n",
        "plt.show()"
      ],
      "execution_count": null,
      "outputs": [
        {
          "output_type": "stream",
          "name": "stderr",
          "text": [
            "/usr/local/lib/python3.7/dist-packages/seaborn/_decorators.py:43: FutureWarning: Pass the following variable as a keyword arg: x. From version 0.12, the only valid positional argument will be `data`, and passing other arguments without an explicit keyword will result in an error or misinterpretation.\n",
            "  FutureWarning\n"
          ]
        },
        {
          "output_type": "display_data",
          "data": {
            "image/png": "[encoded data removed]",
            "text/plain": [
              "<Figure size 432x288 with 1 Axes>"
            ]
          },
          "metadata": {
            "needs_background": "light"
          }
        }
      ]
    },
    {
      "cell_type": "code",
      "metadata": {
        "colab": {
          "base_uri": "https://localhost:8080/",
          "height": 265
        },
        "id": "KvubZ4OLC2mg",
        "outputId": "5cc83ee1-bf1d-4384-f417-25f73c161009"
      },
      "source": [
        "sb.kdeplot(data=l)                                #Probability Density Curve for given data\n",
        "plt.show()  "
      ],
      "execution_count": null,
      "outputs": [
        {
          "output_type": "display_data",
          "data": {
            "image/png": "[encoded data removed]",
            "text/plain": [
              "<Figure size 432x288 with 1 Axes>"
            ]
          },
          "metadata": {
            "needs_background": "light"
          }
        }
      ]
    },
    {
      "cell_type": "code",
      "metadata": {
        "colab": {
          "base_uri": "https://localhost:8080/"
        },
        "id": "0IG5IdUFKoaW",
        "outputId": "3fcd109e-0071-441b-a6f3-a3e7bc5b09d3"
      },
      "source": [
        "import pandas as pd                                                     #Producing grouped data\n",
        "ls=pd.Series(l)                                                         #Output of pd.cut gives an 'Interval' object in the form (x, y). This code processes these intervals in order to\n",
        "lc=pd.cut(ls,(0,5,10,15,20),['0-5','5-10','10-15','15-20'])             #remove the space before y and brackets(by conversion to string) and returns a list by splitting the class by ',' \n",
        "classes=pd.Series(dict(lc.value_counts(sort=False)).keys())             \n",
        "freq=pd.Series(dict(lc.value_counts(sort=False)).values())\n",
        "df=pd.DataFrame()\n",
        "df['classes']=classes\n",
        "df['frequency']=freq\n",
        "def f(x):\n",
        "  x=str(x)\n",
        "  x=x.lstrip('(').rstrip(']')\n",
        "  l=x.split(',')\n",
        "  l.append(l[1].strip())\n",
        "  l.remove(l[1])\n",
        "  return l\n",
        "df['classes']=df['classes'].apply(f)\n",
        "print(df)"
      ],
      "execution_count": null,
      "outputs": [
        {
          "output_type": "stream",
          "name": "stdout",
          "text": [
            "    classes  frequency\n",
            "0    [0, 5]          0\n",
            "1   [5, 10]          6\n",
            "2  [10, 15]          4\n",
            "3  [15, 20]          1\n"
          ]
        }
      ]
    },
    {
      "cell_type": "code",
      "metadata": {
        "colab": {
          "base_uri": "https://localhost:8080/"
        },
        "id": "-My4AaKGdK_M",
        "outputId": "240e59b8-c203-4820-b110-ad0cd80d5f92"
      },
      "source": [
        "def summ(l,n):                                                          #Finding Cumulative Frequency\n",
        "  sum=0\n",
        "  for i in range(n+1):\n",
        "    sum=sum+l[i]\n",
        "  return sum\n",
        "cumfreq=[]\n",
        "cumfreq.append(df['frequency'][0])\n",
        "for i in range(1,len(df['frequency'])):\n",
        "  cumfreq.append(summ(df['frequency'],i))\n",
        "df['CF']=pd.Series(cumfreq)\n",
        "print(df)"
      ],
      "execution_count": null,
      "outputs": [
        {
          "output_type": "stream",
          "name": "stdout",
          "text": [
            "    classes  frequency  CF\n",
            "0    [0, 5]          0   0\n",
            "1   [5, 10]          6   6\n",
            "2  [10, 15]          4  10\n",
            "3  [15, 20]          1  11\n"
          ]
        }
      ]
    },
    {
      "cell_type": "code",
      "metadata": {
        "colab": {
          "base_uri": "https://localhost:8080/"
        },
        "id": "tIXh2C0arMHT",
        "outputId": "f7fe2e2a-9fe1-42e2-a87f-bddf9cfe4e74"
      },
      "source": [
        "mdpts=[]                                                              #Finding mean for grouped data\n",
        "for i in df['classes']:\n",
        "  x=(int(i[0])+int(i[1]))/2\n",
        "  mdpts.append(x)\n",
        "Mean=np.sum(np.array(mdpts)*np.array(df['frequency']))/11\n",
        "print(Mean)"
      ],
      "execution_count": null,
      "outputs": [
        {
          "output_type": "stream",
          "name": "stdout",
          "text": [
            "10.227272727272727\n"
          ]
        }
      ]
    },
    {
      "cell_type": "code",
      "metadata": {
        "colab": {
          "base_uri": "https://localhost:8080/"
        },
        "id": "y_s1_zCKhGeS",
        "outputId": "d7cfffa7-0bac-4804-cf0f-a0a018d47049"
      },
      "source": [
        "mnclass=df[df['CF']>(df['frequency'].sum())/2].iloc[0]                #Finding Median for grouped data\n",
        "Med=int(mnclass['classes'][0])+(((df['frequency'].sum()/2)-df[df['CF']<=(df['frequency'].sum())/2].iloc[-1]['CF'])*5)/mnclass['frequency']\n",
        "print(Med)"
      ],
      "execution_count": null,
      "outputs": [
        {
          "output_type": "stream",
          "name": "stdout",
          "text": [
            "9.583333333333332\n"
          ]
        }
      ]
    },
    {
      "cell_type": "code",
      "metadata": {
        "colab": {
          "base_uri": "https://localhost:8080/"
        },
        "id": "HSI-7X_EnmCN",
        "outputId": "f56cec55-98fc-4352-cd3d-9a555b02eb16"
      },
      "source": [
        "mdclass=df[df['frequency']==df['frequency'].max()].iloc[0]            #Finding mode for grouped data\n",
        "pos=list(df['frequency']).index(int((df[df['frequency']==df['frequency'].max()]['frequency'])))\n",
        "d1=df['frequency'].iloc[pos]-df['frequency'].iloc[pos-1]\n",
        "d2=df['frequency'].iloc[pos]-df['frequency'].iloc[pos+1]\n",
        "Mode=int(mdclass['classes'][0])+(d1*5)/(d1+d2)\n",
        "print(Mode)"
      ],
      "execution_count": null,
      "outputs": [
        {
          "output_type": "stream",
          "name": "stdout",
          "text": [
            "8.75\n"
          ]
        }
      ]
    },
    {
      "cell_type": "code",
      "metadata": {
        "colab": {
          "base_uri": "https://localhost:8080/",
          "height": 204
        },
        "id": "wi5echEVdENc",
        "outputId": "47dc0bf6-8181-4823-e173-fd152cbab37b"
      },
      "source": [
        "df1=pd.read_csv('StudentsPerformance.csv')                        #That was univariate analysis. Now moving to bivariate analysis\n",
        "df1.head()"
      ],
      "execution_count": null,
      "outputs": [
        {
          "output_type": "execute_result",
          "data": {
            "text/html": [
              "<div>\n",
              "<style scoped>\n",
              "    .dataframe tbody tr th:only-of-type {\n",
              "        vertical-align: middle;\n",
              "    }\n",
              "\n",
              "    .dataframe tbody tr th {\n",
              "        vertical-align: top;\n",
              "    }\n",
              "\n",
              "    .dataframe thead th {\n",
              "        text-align: right;\n",
              "    }\n",
              "</style>\n",
              "<table border=\"1\" class=\"dataframe\">\n",
              "  <thead>\n",
              "    <tr style=\"text-align: right;\">\n",
              "      <th></th>\n",
              "      <th>gender</th>\n",
              "      <th>race/ethnicity</th>\n",
              "      <th>parental level of education</th>\n",
              "      <th>lunch</th>\n",
              "      <th>test preparation course</th>\n",
              "      <th>math score</th>\n",
              "      <th>reading score</th>\n",
              "      <th>writing score</th>\n",
              "    </tr>\n",
              "  </thead>\n",
              "  <tbody>\n",
              "    <tr>\n",
              "      <th>0</th>\n",
              "      <td>female</td>\n",
              "      <td>group B</td>\n",
              "      <td>bachelor's degree</td>\n",
              "      <td>standard</td>\n",
              "      <td>none</td>\n",
              "      <td>72</td>\n",
              "      <td>72</td>\n",
              "      <td>74</td>\n",
              "    </tr>\n",
              "    <tr>\n",
              "      <th>1</th>\n",
              "      <td>female</td>\n",
              "      <td>group C</td>\n",
              "      <td>some college</td>\n",
              "      <td>standard</td>\n",
              "      <td>completed</td>\n",
              "      <td>69</td>\n",
              "      <td>90</td>\n",
              "      <td>88</td>\n",
              "    </tr>\n",
              "    <tr>\n",
              "      <th>2</th>\n",
              "      <td>female</td>\n",
              "      <td>group B</td>\n",
              "      <td>master's degree</td>\n",
              "      <td>standard</td>\n",
              "      <td>none</td>\n",
              "      <td>90</td>\n",
              "      <td>95</td>\n",
              "      <td>93</td>\n",
              "    </tr>\n",
              "    <tr>\n",
              "      <th>3</th>\n",
              "      <td>male</td>\n",
              "      <td>group A</td>\n",
              "      <td>associate's degree</td>\n",
              "      <td>free/reduced</td>\n",
              "      <td>none</td>\n",
              "      <td>47</td>\n",
              "      <td>57</td>\n",
              "      <td>44</td>\n",
              "    </tr>\n",
              "    <tr>\n",
              "      <th>4</th>\n",
              "      <td>male</td>\n",
              "      <td>group C</td>\n",
              "      <td>some college</td>\n",
              "      <td>standard</td>\n",
              "      <td>none</td>\n",
              "      <td>76</td>\n",
              "      <td>78</td>\n",
              "      <td>75</td>\n",
              "    </tr>\n",
              "  </tbody>\n",
              "</table>\n",
              "</div>"
            ],
            "text/plain": [
              "   gender race/ethnicity  ... reading score writing score\n",
              "0  female        group B  ...            72            74\n",
              "1  female        group C  ...            90            88\n",
              "2  female        group B  ...            95            93\n",
              "3    male        group A  ...            57            44\n",
              "4    male        group C  ...            78            75\n",
              "\n",
              "[5 rows x 8 columns]"
            ]
          },
          "metadata": {},
          "execution_count": 10
        }
      ]
    },
    {
      "cell_type": "code",
      "metadata": {
        "colab": {
          "base_uri": "https://localhost:8080/",
          "height": 265
        },
        "id": "FpZNGlyudJAI",
        "outputId": "ec6f04ac-0171-40e2-a55a-642117a3f213"
      },
      "source": [
        "plt.scatter(df1['reading score'],df1['writing score'])          #Visualizing correlation between two random variables\n",
        "plt.show()"
      ],
      "execution_count": null,
      "outputs": [
        {
          "output_type": "display_data",
          "data": {
            "image/png": "[encoded data removed]",
            "text/plain": [
              "<Figure size 432x288 with 1 Axes>"
            ]
          },
          "metadata": {
            "needs_background": "light"
          }
        }
      ]
    },
    {
      "cell_type": "code",
      "metadata": {
        "colab": {
          "base_uri": "https://localhost:8080/"
        },
        "id": "Po0JK5tPdMgA",
        "outputId": "305fbcc0-3147-47a4-ed0a-b79cad3ca06b"
      },
      "source": [
        "import scipy.stats as sc\n",
        "rho=sc.pearsonr(df1['reading score'],df1['writing score'])[0]   #Finding correlation coeffiecient and cpvariance\n",
        "covr=rho*st.pstdev(df1['reading score'])*st.pstdev(df1['writing score'])\n",
        "print(\"Covariance:\",covr)\n",
        "print(\"Correlation Coefficient:\",rho)"
      ],
      "execution_count": null,
      "outputs": [
        {
          "output_type": "stream",
          "name": "stdout",
          "text": [
            "Covariance: 211.57487400000002\n",
            "Correlation Coefficient: 0.9545980771462479\n"
          ]
        }
      ]
    }
  ]
}