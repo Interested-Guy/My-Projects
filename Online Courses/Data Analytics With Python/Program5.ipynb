{
  "nbformat": 4,
  "nbformat_minor": 0,
  "metadata": {
    "colab": {
      "name": "Program 5.ipynb",
      "provenance": []
    },
    "kernelspec": {
      "name": "python3",
      "display_name": "Python 3"
    },
    "language_info": {
      "name": "python"
    }
  },
  "cells": [
    {
      "cell_type": "markdown",
      "metadata": {
        "id": "wO2qjNHdkwWa"
      },
      "source": [
        "##Hypothesis Testing on 1 sample"
      ]
    },
    {
      "cell_type": "code",
      "metadata": {
        "id": "dmgPzsEWk0Ew",
        "colab": {
          "base_uri": "https://localhost:8080/",
          "height": 204
        },
        "outputId": "939fc59b-14b3-46a9-e1d9-3a857cf8e769"
      },
      "source": [
        "import pandas as pd\n",
        "df=pd.read_csv(\"toyota.csv\")\n",
        "df.head()"
      ],
      "execution_count": 8,
      "outputs": [
        {
          "output_type": "execute_result",
          "data": {
            "text/html": [
              "<div>\n",
              "<style scoped>\n",
              "    .dataframe tbody tr th:only-of-type {\n",
              "        vertical-align: middle;\n",
              "    }\n",
              "\n",
              "    .dataframe tbody tr th {\n",
              "        vertical-align: top;\n",
              "    }\n",
              "\n",
              "    .dataframe thead th {\n",
              "        text-align: right;\n",
              "    }\n",
              "</style>\n",
              "<table border=\"1\" class=\"dataframe\">\n",
              "  <thead>\n",
              "    <tr style=\"text-align: right;\">\n",
              "      <th></th>\n",
              "      <th>Price</th>\n",
              "      <th>Age</th>\n",
              "      <th>KM</th>\n",
              "      <th>FuelType</th>\n",
              "      <th>HP</th>\n",
              "      <th>MetColor</th>\n",
              "      <th>Automatic</th>\n",
              "      <th>CC</th>\n",
              "      <th>Doors</th>\n",
              "      <th>Weight</th>\n",
              "    </tr>\n",
              "  </thead>\n",
              "  <tbody>\n",
              "    <tr>\n",
              "      <th>0</th>\n",
              "      <td>13500</td>\n",
              "      <td>23</td>\n",
              "      <td>46986</td>\n",
              "      <td>Diesel</td>\n",
              "      <td>90</td>\n",
              "      <td>1</td>\n",
              "      <td>0</td>\n",
              "      <td>2000</td>\n",
              "      <td>3</td>\n",
              "      <td>1165</td>\n",
              "    </tr>\n",
              "    <tr>\n",
              "      <th>1</th>\n",
              "      <td>13750</td>\n",
              "      <td>23</td>\n",
              "      <td>72937</td>\n",
              "      <td>Diesel</td>\n",
              "      <td>90</td>\n",
              "      <td>1</td>\n",
              "      <td>0</td>\n",
              "      <td>2000</td>\n",
              "      <td>3</td>\n",
              "      <td>1165</td>\n",
              "    </tr>\n",
              "    <tr>\n",
              "      <th>2</th>\n",
              "      <td>13950</td>\n",
              "      <td>24</td>\n",
              "      <td>41711</td>\n",
              "      <td>Diesel</td>\n",
              "      <td>90</td>\n",
              "      <td>1</td>\n",
              "      <td>0</td>\n",
              "      <td>2000</td>\n",
              "      <td>3</td>\n",
              "      <td>1165</td>\n",
              "    </tr>\n",
              "    <tr>\n",
              "      <th>3</th>\n",
              "      <td>14950</td>\n",
              "      <td>26</td>\n",
              "      <td>48000</td>\n",
              "      <td>Diesel</td>\n",
              "      <td>90</td>\n",
              "      <td>0</td>\n",
              "      <td>0</td>\n",
              "      <td>2000</td>\n",
              "      <td>3</td>\n",
              "      <td>1165</td>\n",
              "    </tr>\n",
              "    <tr>\n",
              "      <th>4</th>\n",
              "      <td>13750</td>\n",
              "      <td>30</td>\n",
              "      <td>38500</td>\n",
              "      <td>Diesel</td>\n",
              "      <td>90</td>\n",
              "      <td>0</td>\n",
              "      <td>0</td>\n",
              "      <td>2000</td>\n",
              "      <td>3</td>\n",
              "      <td>1170</td>\n",
              "    </tr>\n",
              "  </tbody>\n",
              "</table>\n",
              "</div>"
            ],
            "text/plain": [
              "   Price  Age     KM FuelType  HP  MetColor  Automatic    CC  Doors  Weight\n",
              "0  13500   23  46986   Diesel  90         1          0  2000      3    1165\n",
              "1  13750   23  72937   Diesel  90         1          0  2000      3    1165\n",
              "2  13950   24  41711   Diesel  90         1          0  2000      3    1165\n",
              "3  14950   26  48000   Diesel  90         0          0  2000      3    1165\n",
              "4  13750   30  38500   Diesel  90         0          0  2000      3    1170"
            ]
          },
          "metadata": {},
          "execution_count": 8
        }
      ]
    },
    {
      "cell_type": "code",
      "metadata": {
        "id": "0jtIsbe3l25x"
      },
      "source": [
        "sig=df[\"Price\"].std() #sig=Population standard dev."
      ],
      "execution_count": 9,
      "outputs": []
    },
    {
      "cell_type": "code",
      "metadata": {
        "id": "oJ2DzX9Dmmng"
      },
      "source": [
        "import random as rd                           #Sample of size 20(n=20)\n",
        "samp=rd.sample(list(df['Price']),20)"
      ],
      "execution_count": 10,
      "outputs": []
    },
    {
      "cell_type": "markdown",
      "metadata": {
        "id": "dIW-WEhXnJ3u"
      },
      "source": [
        "###Let the hypothesis be as follows:\n",
        "###Ho:The mean price is <=10000\n",
        "###Ha:The mean price is >10000\n",
        "Assume level of significance as 0.05"
      ]
    },
    {
      "cell_type": "code",
      "metadata": {
        "id": "Uaei-ReSnqYn",
        "colab": {
          "base_uri": "https://localhost:8080/"
        },
        "outputId": "e5305182-8bba-4222-ee53-8adb987ea116"
      },
      "source": [
        "import numpy as np                                        #Checking hypothesis by p value approach. Similarly we can check for >=10000\n",
        "import scipy.stats as st\n",
        "sm=np.mean(samp)        #sample mean of sample\n",
        "z=(sm-10000)/(sig/(20**(.5)))\n",
        "pval=st.norm.cdf(z)\n",
        "if(pval>.05):\n",
        "  print(\"Ho not rejected\")\n",
        "else:\n",
        "  print(\"Ho rejected\")"
      ],
      "execution_count": 11,
      "outputs": [
        {
          "output_type": "stream",
          "name": "stdout",
          "text": [
            "Ho not rejected\n"
          ]
        }
      ]
    },
    {
      "cell_type": "code",
      "metadata": {
        "id": "X0O1HKRDwBkv",
        "colab": {
          "base_uri": "https://localhost:8080/"
        },
        "outputId": "cb82f7c8-034e-4fdf-b65f-589926004d84"
      },
      "source": [
        "#Suppose we want to check for H0:Mean Price=10000\n",
        "if(pval>.05/2):\n",
        "  print(\"Ho not rejected\")\n",
        "else:\n",
        "  print(\"Ho rejected\")"
      ],
      "execution_count": 12,
      "outputs": [
        {
          "output_type": "stream",
          "name": "stdout",
          "text": [
            "Ho not rejected\n"
          ]
        }
      ]
    },
    {
      "cell_type": "code",
      "metadata": {
        "id": "FaQK8I0DxtmY",
        "colab": {
          "base_uri": "https://localhost:8080/"
        },
        "outputId": "493df8f8-666a-4793-f59f-a5f3e68d9753"
      },
      "source": [
        "#Suppose we want to check for H0:Mean Price=10000 but population standard dev. is not known. We use ttest\n",
        "pval=list(st.ttest_1samp(samp,10000))[1]\n",
        "if(pval>.05):\n",
        "  print(\"Ho not rejected\")\n",
        "else:\n",
        "  print(\"Ho rejected\")"
      ],
      "execution_count": 13,
      "outputs": [
        {
          "output_type": "stream",
          "name": "stdout",
          "text": [
            "Ho rejected\n"
          ]
        }
      ]
    },
    {
      "cell_type": "markdown",
      "metadata": {
        "id": "Woto3-RBy5Q8"
      },
      "source": [
        "##Suppose Ho:50% of the price value in a sample is >=10000\n",
        "##Ha:50% of price values is not 10000\n",
        "Assume significance level=0.05\n"
      ]
    },
    {
      "cell_type": "code",
      "metadata": {
        "id": "0N7UiR3kzzfi",
        "colab": {
          "base_uri": "https://localhost:8080/"
        },
        "outputId": "dfbadaae-e4af-405a-cd64-83ed156e069b"
      },
      "source": [
        "k=0\n",
        "for i in samp:\n",
        "  if(i>=10000):\n",
        "    k=k+1                     #k is the no. of values in the sample >=10000\n",
        "import statsmodels.stats.proportion as ssp\n",
        "pval=ssp.proportions_ztest(k,20,.5)[0]\n",
        "if(pval>.05):\n",
        "  print(\"Ho not rejected\")\n",
        "else:\n",
        "  print(\"Ho rejected\")"
      ],
      "execution_count": 14,
      "outputs": [
        {
          "output_type": "stream",
          "name": "stdout",
          "text": [
            "Ho not rejected\n"
          ]
        }
      ]
    },
    {
      "cell_type": "markdown",
      "metadata": {
        "id": "Y0E-l3DmotZ0"
      },
      "source": [
        "##Errors in Hypothesis Testing\n",
        "###1.Type 1 error: Incorrectly rejecting Ho. Probability of committing this error is called level of significance(denoted by alpha)\n",
        "###1.Type 2 error: Incorrectly accepting Ho. The probability of committing this error is denoted by beta."
      ]
    },
    {
      "cell_type": "code",
      "metadata": {
        "colab": {
          "base_uri": "https://localhost:8080/"
        },
        "id": "XFPgfdg9pRMG",
        "outputId": "a01c5541-c702-4a84-e9cb-66682bbfd92b"
      },
      "source": [
        "#Suppose sample mean is 50.8 and hypothetical mean is 50. Let sigma=2 and n=25. Let alpha=0.05\n",
        "#Even if assume that population mean is 50, H0:mu<=mu0 is rejected. This is Type 1 error\n",
        "z=(50.8-50)/(2/5)\n",
        "pval=1-st.norm.cdf(z)\n",
        "if(pval>.05):\n",
        "  print(\"Ho not rejected\")\n",
        "else:\n",
        "  print(\"Ho rejected\")"
      ],
      "execution_count": 19,
      "outputs": [
        {
          "output_type": "stream",
          "name": "stdout",
          "text": [
            "Ho rejected\n"
          ]
        }
      ]
    },
    {
      "cell_type": "code",
      "metadata": {
        "colab": {
          "base_uri": "https://localhost:8080/"
        },
        "id": "fYRJFZGwv3An",
        "outputId": "009f1205-8096-4843-d83b-f0c8e4c43530"
      },
      "source": [
        "#Consider the above example. Let us assume that population mean is 52 and sample mean is 50.6 while all other parameters remain same.\n",
        "#Even if H0 is false, it is not rejected. This is Type 2 error\n",
        "z=(50.6-50)/(2/5)\n",
        "pval=1-st.norm.cdf(z)\n",
        "if(pval>.05):\n",
        "  print(\"Ho not rejected\")\n",
        "else:\n",
        "  print(\"Ho rejected\")\n",
        "#To calculate beta we first find Z value corresponding to alpha. Then find corresponding sample mean.\n",
        "za=st.norm.ppf(.95)\n",
        "xa=((za*2)/5)+50\n",
        "#Beta is calculted as follows\n",
        "zb=(xa-52)/(2/5)\n",
        "beta=st.norm.cdf(zb)\n",
        "print(\"Beta value:\",beta)"
      ],
      "execution_count": 22,
      "outputs": [
        {
          "output_type": "stream",
          "name": "stdout",
          "text": [
            "Ho not rejected\n",
            "Beta value: 0.0003966150045262979\n"
          ]
        }
      ]
    }
  ]
}